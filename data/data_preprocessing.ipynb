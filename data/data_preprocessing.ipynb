{
 "cells": [
  {
   "cell_type": "code",
   "execution_count": 2,
   "metadata": {
    "collapsed": true
   },
   "outputs": [],
   "source": [
    "import numpy as np\n",
    "from rdkit import Chem\n",
    "from rdkit.ML.Descriptors.MoleculeDescriptors import MolecularDescriptorCalculator\n",
    "from sklearn.preprocessing import MinMaxScaler, StandardScaler\n",
    "import pandas as pd\n",
    "from rdkit.Chem import AllChem\n",
    "import pickle\n",
    "import pubchempy as pcp"
   ]
  },
  {
   "cell_type": "code",
   "execution_count": 3,
   "outputs": [],
   "source": [
    "old_data_path=\".\"\n",
    "new_data_path=\".\""
   ],
   "metadata": {
    "collapsed": false,
    "pycharm": {
     "name": "#%%\n"
    }
   }
  },
  {
   "cell_type": "markdown",
   "source": [
    "## 1. Replace drug ID with unique int id (from 0 to num_of_drugs)"
   ],
   "metadata": {
    "collapsed": false,
    "pycharm": {
     "name": "#%% md\n"
    }
   }
  },
  {
   "cell_type": "code",
   "execution_count": 4,
   "outputs": [],
   "source": [
    "df1 = pd.read_csv(old_data_path + '/ploypharmacy_facts_train.txt',\n",
    "               sep='\\t', header=None, names=['from', 'rel', 'to'])\n",
    "df2 = pd.read_csv(old_data_path + '/ploypharmacy_facts_valid.txt',\n",
    "               sep='\\t', header=None, names=['from', 'rel', 'to'])\n",
    "df3 = pd.read_csv(old_data_path + '/ploypharmacy_facts_test.txt',\n",
    "               sep='\\t', header=None, names=['from', 'rel', 'to'])\n",
    "df_trivec = pd.concat([df1, df2, df3])\n",
    "\n",
    "col = df_trivec.columns\n",
    "list_of_ent_n = list(set(df_trivec[col[0]]).union(set(df_trivec[col[2]])))\n",
    "num_of_ent = len(list_of_ent_n)\n",
    "list_of_ent = pd.Series(list(range(num_of_ent)))\n",
    "list_of_ent.index = list_of_ent_n\n",
    "list_of_rel_n = list(set(df_trivec[col[1]]))\n",
    "num_of_rel = len(list_of_rel_n)\n",
    "list_of_rel = pd.Series(list(range(num_of_rel)))\n",
    "list_of_rel.index = list_of_rel_n\n",
    "\n",
    "df_tr = pd.DataFrame({'from': list(list_of_ent.loc[df1['from']]),\n",
    "       'rel': list(list_of_rel.loc[df1['rel']]),\n",
    "       'to': list(list_of_ent.loc[df1['to']])})\n",
    "df_val = pd.DataFrame({'from': list(list_of_ent.loc[df2['from']]),\n",
    "       'rel': list(list_of_rel.loc[df2['rel']]),\n",
    "       'to': list(list_of_ent.loc[df2['to']])})\n",
    "df_test = pd.DataFrame({'from': list(list_of_ent.loc[df3['from']]),\n",
    "       'rel': list(list_of_rel.loc[df3['rel']]),\n",
    "       'to': list(list_of_ent.loc[df3['to']])})\n",
    "\n",
    "df_tr.to_csv(new_data_path + \"/polyphar_train.csv\", index=False)\n",
    "df_val.to_csv(new_data_path + \"/polyphar_validate.csv\", index=False)\n",
    "df_test.to_csv(new_data_path + \"/polyphar_test.csv\", index=False)\n",
    "\n",
    "df_trivec = pd.concat([df_tr, df_val, df_test])\n",
    "df_trivec.to_csv(new_data_path + \"/polyphar_all.csv\", index=False)"
   ],
   "metadata": {
    "collapsed": false,
    "pycharm": {
     "name": "#%%\n"
    }
   }
  },
  {
   "cell_type": "markdown",
   "source": [
    "## 2. Add map for relations"
   ],
   "metadata": {
    "collapsed": false,
    "pycharm": {
     "name": "#%% md\n"
    }
   }
  },
  {
   "cell_type": "code",
   "execution_count": 8,
   "outputs": [],
   "source": [
    "se = pd.read_csv(old_data_path + '/se_maps.txt', sep='\\t', header=None)\n",
    "se.index = se[0]\n",
    "se.drop(columns=[0], inplace=True)\n",
    "\n",
    "rels = [i[3:] for i in list(list_of_rel.index)]\n",
    "relatives_names = list_of_rel.to_frame()\n",
    "relatives_names['names'] = [se.loc[r][1] for r in rels]\n",
    "relatives_names.columns = ['id_in_data', 'names']\n",
    "relatives_names.index = rels\n",
    "relatives_names.to_csv(new_data_path + '/rel_maps.csv')"
   ],
   "metadata": {
    "collapsed": false,
    "pycharm": {
     "name": "#%%\n"
    }
   }
  },
  {
   "cell_type": "markdown",
   "source": [
    "##3. Add map for enteties"
   ],
   "metadata": {
    "collapsed": false,
    "pycharm": {
     "name": "#%% md\n"
    }
   }
  },
  {
   "cell_type": "code",
   "execution_count": 9,
   "outputs": [],
   "source": [
    "drugs = [i[5:] for i in list(list_of_ent.index)]\n",
    "ent_names = list_of_ent.to_frame()\n",
    "ent_names.columns = ['id_in_data']\n",
    "ent_names.index = drugs\n",
    "ent_names.to_csv(new_data_path + '/ent_maps.csv')"
   ],
   "metadata": {
    "collapsed": false,
    "pycharm": {
     "name": "#%%\n"
    }
   }
  },
  {
   "cell_type": "code",
   "execution_count": null,
   "outputs": [],
   "source": [
    "## 4. Process ppi data¶"
   ],
   "metadata": {
    "collapsed": false,
    "pycharm": {
     "name": "#%%\n"
    }
   }
  },
  {
   "cell_type": "code",
   "execution_count": 29,
   "outputs": [],
   "source": [
    "num_of_dugs = len(list_of_ent)\n",
    "\n",
    "ppi = pd.read_csv(old_data_path + '/bio-decagon-ppi.csv')\n",
    "len_ppi = ppi.shape[0]\n",
    "\n",
    "targets = pd.read_csv(old_data_path + '/bio-decagon-targets-all.csv')\n",
    "len_tar = targets.shape[0]\n",
    "\n",
    "genes = list(set(ppi['Gene 1']).union(set(ppi['Gene 2']).union(set(targets['Gene']))))\n",
    "gene_to_id = pd.Series(list(range(num_of_dugs, num_of_dugs + len(genes))))\n",
    "gene_to_id.index = genes\n",
    "gene_to_id.to_csv(new_data_path + '/gene_to_idx.csv', index=True)\n",
    "\n",
    "ppi['Gene 1'] = gene_to_id.loc[ppi['Gene 1']].reset_index(drop=True)\n",
    "ppi['Gene 2'] = gene_to_id.loc[ppi['Gene 2']].reset_index(drop=True)\n",
    "ppi.to_csv(new_data_path + '/ppi_data.csv', index=False)"
   ],
   "metadata": {
    "collapsed": false,
    "pycharm": {
     "name": "#%%\n"
    }
   }
  },
  {
   "cell_type": "markdown",
   "source": [
    "## 5. Process targets data"
   ],
   "metadata": {
    "collapsed": false,
    "pycharm": {
     "name": "#%% md\n"
    }
   }
  },
  {
   "cell_type": "code",
   "execution_count": 35,
   "outputs": [],
   "source": [
    "## Leave drugs that contains in combo se (in targets there more than 645 drugs)\n",
    "targets = targets[ent_names.reindex(targets['STITCH'])['id_in_data'].reset_index(drop=True).notna()].dropna().reset_index(drop=True)\n",
    "targets['STITCH'] = ent_names.loc[targets['STITCH']].reset_index(drop=True)\n",
    "targets['Gene'] = gene_to_id.loc[targets['Gene']].reset_index(drop=True)\n",
    "targets.to_csv(new_data_path + '/targets_data.csv', index=False)"
   ],
   "metadata": {
    "collapsed": false,
    "pycharm": {
     "name": "#%%\n"
    }
   }
  },
  {
   "cell_type": "markdown",
   "source": [
    "# Get new data"
   ],
   "metadata": {
    "collapsed": false,
    "pycharm": {
     "name": "#%% md\n"
    }
   }
  },
  {
   "cell_type": "markdown",
   "source": [
    "## 1. Get morgan fingerprints"
   ],
   "metadata": {
    "collapsed": false,
    "pycharm": {
     "name": "#%% md\n"
    }
   }
  },
  {
   "cell_type": "code",
   "execution_count": null,
   "outputs": [],
   "source": [
    "chems = [str(int(item[4:])) for item in list(ent_names.index)]\n",
    "s = \", \".join(chems)"
   ],
   "metadata": {
    "collapsed": false,
    "pycharm": {
     "name": "#%%\n"
    }
   }
  },
  {
   "cell_type": "markdown",
   "source": [
    "Find CID's in PubChem https://pubchem.ncbi.nlm.nih.gov/pc_fetch/pc_fetch.cgi and download mapping from CID to Smiles.\n",
    "Save file as cid_smiles.tsv\n",
    "\n",
    "Make morgan fingerprints"
   ],
   "metadata": {
    "collapsed": false,
    "pycharm": {
     "name": "#%% md\n"
    }
   }
  },
  {
   "cell_type": "code",
   "execution_count": 36,
   "outputs": [],
   "source": [
    "def cid_to_str(cid: int):\n",
    "    cid = str(cid)\n",
    "    return 'CID0'+ \"\".join(['0']*(8-len(cid))) + cid\n",
    "\n",
    "cid_smiles_df = pd.read_table(old_data_path + \"/cid_smiles.txt\", sep='\\t', header=None)\n",
    "cid_smiles_df.columns = ['cid', 'smiles']\n",
    "\n",
    "radius = 3\n",
    "lst = []\n",
    "fp = []\n",
    "for row in cid_smiles_df.smiles:\n",
    "    m1 = Chem.MolFromSmiles(row)\n",
    "    fp1 = AllChem.GetMorganFingerprintAsBitVect(m1,radius,nBits=100)\n",
    "    fp.append(fp1)\n",
    "    lst.append(list(fp1))\n",
    "res = pd.DataFrame(np.array(lst), dtype = np.int32)\n",
    "res.index = [cid_to_str(i) for i in cid_smiles_df.cid]\n",
    "## res.to_csv(new_data_path + f\"/chemical_embed_morgan_fp_{radius}_100.csv\")\n",
    "\n",
    "## Make sure that all fp in right order\n",
    "\n",
    "res = pd.concat([res, ent_names], axis=1, join=\"inner\")\n",
    "res.sort_values([\"id_in_data\"], inplace=True)\n",
    "res.index = res['id_in_data']\n",
    "res.drop(columns=['id_in_data'], inplace=True)\n",
    "res.to_csv(new_data_path + f\"/chemical_embed_morgan_fp_{radius}_100.csv\")\n"
   ],
   "metadata": {
    "collapsed": false,
    "pycharm": {
     "name": "#%%\n"
    }
   }
  },
  {
   "cell_type": "markdown",
   "source": [
    "## Replace smiles ID"
   ],
   "metadata": {
    "collapsed": false
   }
  },
  {
   "cell_type": "code",
   "execution_count": null,
   "outputs": [],
   "source": [
    "cid_smiles = pd.read_table(old_data_path + \"/cid_smiles.txt\", sep=\"\\t\", header=None, index_col=0)\n",
    "ent_maps = pd.read_csv(new_data_path + '/ent_maps.csv', index_col=0)\n",
    "ent_maps.index = [int(i[3:]) for i in ent_maps.index]\n",
    "\n",
    "smiles_df = pd.concat([cid_smiles, ent_maps], join='inner',axis=1).set_index('id_in_data').sort_index()\n",
    "smiles_df.to_csv(new_data_path + '/descr_smiles.csv', index=False, header=False)"
   ],
   "metadata": {
    "collapsed": false,
    "pycharm": {
     "name": "#%%\n"
    }
   }
  },
  {
   "cell_type": "markdown",
   "source": [
    "## Get molecular descriptors"
   ],
   "metadata": {
    "collapsed": false
   }
  },
  {
   "cell_type": "code",
   "execution_count": null,
   "outputs": [],
   "source": [
    "scaler = StandardScaler()\n",
    "\n",
    "molecules = [Chem.MolFromSmiles(mol) for mol in smiles_df[1]]\n",
    "mol_descriptors = [desc[0] for desc in Chem.Descriptors.descList]\n",
    "calc = MolecularDescriptorCalculator(mol_descriptors)\n",
    "\n",
    "descriptors = [np.array(calc.CalcDescriptors(mol)) for mol in molecules]\n",
    "df_descriptors = pd.DataFrame(np.vstack(descriptors))\n",
    "df_descriptors = df_descriptors.loc[:, (df_descriptors != 0).any(axis=0)]\n",
    "\n",
    "#Check NA. Only 4 in one molecule, fill with 0. Can make sure, that 0 seems like appropriate value.\n",
    "np.where(np.asanyarray(np.isnan(df_descriptors)))\n",
    "\n",
    "df_descriptors = df_descriptors.fillna(0)\n",
    "df_descriptors = pd.DataFrame(scaler.fit_transform(df_descriptors))\n",
    "\n",
    "df_descriptors.to_csv(f\"{new_data_path}/mol_descriptors_191.csv\")"
   ],
   "metadata": {
    "collapsed": false,
    "pycharm": {
     "name": "#%%\n"
    }
   }
  },
  {
   "cell_type": "markdown",
   "source": [
    "**Warning! List of molecular descriptors in rdkit can change over time, so use file mol_descriptors_list.pickle to\n",
    "restore used descriptors**\n",
    "\n",
    "```python\n",
    "with open('mol_descriptors_list.pickle', 'rb') as f:\n",
    "    md_list = pickle.load(f)\n",
    "```"
   ],
   "metadata": {
    "collapsed": false,
    "pycharm": {
     "name": "#%% md\n"
    }
   }
  },
  {
   "cell_type": "markdown",
   "source": [
    "Save only 100 descriptors that have more non-zero values, than other descriptors"
   ],
   "metadata": {
    "collapsed": false,
    "pycharm": {
     "name": "#%% md\n"
    }
   }
  },
  {
   "cell_type": "code",
   "execution_count": null,
   "outputs": [],
   "source": [
    "df_descriptors = df_descriptors[(df_descriptors!=0).sum(axis=0).sort_values(ascending=False).index[:100]]\n",
    "df_descriptors = pd.DataFrame(scaler.fit_transform(df_descriptors))\n",
    "df_descriptors.to_csv(f\"{new_data_path}/mol_descriptors_100.csv\")"
   ],
   "metadata": {
    "collapsed": false,
    "pycharm": {
     "name": "#%%\n"
    }
   }
  },
  {
   "cell_type": "markdown",
   "source": [
    "HVAE embeddings got from this repo: https://github.com/batmanlab/drugEmbedding"
   ],
   "metadata": {
    "collapsed": false
   }
  },
  {
   "cell_type": "markdown",
   "source": [
    "# Make splits"
   ],
   "metadata": {
    "collapsed": false,
    "pycharm": {
     "name": "#%% md\n"
    }
   }
  },
  {
   "cell_type": "markdown",
   "source": [
    "## Make split 1"
   ],
   "metadata": {
    "collapsed": false
   }
  },
  {
   "cell_type": "code",
   "execution_count": 31,
   "outputs": [],
   "source": [
    "degrees = pd.concat([df_tr['from'], df_tr['to']]).value_counts()\n",
    "num_of_weak_triples = [degrees[degrees <=i].sum() for i in range(3, 1000)]\n",
    "weak_nodes = list(degrees[degrees <=1000].index)"
   ],
   "metadata": {
    "collapsed": false,
    "pycharm": {
     "name": "#%%\n"
    }
   }
  },
  {
   "cell_type": "code",
   "execution_count": 32,
   "outputs": [],
   "source": [
    "df_1 = df_tr[df_tr['from'].isin(weak_nodes)].sort_values(\"from\")\n",
    "\n",
    "triples_to_add_test = []\n",
    "triples_to_add_val = []\n",
    "for drug in list(set(df_1['from'])):\n",
    "    tmp = df_1[df_1['from'] == drug]\n",
    "    triples_to_add_test.append(tmp.iloc[:len(tmp)//4])\n",
    "    triples_to_add_val.append(tmp.iloc[len(tmp)//4:len(tmp)//2])\n",
    "df_1_test = pd.concat(triples_to_add_test)\n",
    "df_1_val = pd.concat(triples_to_add_val)\n",
    "\n",
    "df_2 = df_tr[df_tr['to'].isin(weak_nodes)].sort_values(\"to\")\n",
    "\n",
    "triples_to_add_test = []\n",
    "triples_to_add_val = []\n",
    "for drug in list(set(df_2['to'])):\n",
    "    tmp = df_2[df_2['to'] == drug]\n",
    "    triples_to_add_test.append(tmp.iloc[:len(tmp)//4])\n",
    "    triples_to_add_val.append(tmp.iloc[len(tmp)//4:len(tmp)//2])\n",
    "df_2_test = pd.concat(triples_to_add_test)\n",
    "df_2_val = pd.concat(triples_to_add_val)"
   ],
   "metadata": {
    "collapsed": false,
    "pycharm": {
     "name": "#%%\n"
    }
   }
  },
  {
   "cell_type": "code",
   "execution_count": 33,
   "outputs": [],
   "source": [
    "df_val_weak = pd.concat([df_val[df_val['from'].isin(weak_nodes)],df_val[df_val['to'].isin(weak_nodes)]]).drop_duplicates()\n",
    "df_test_weak = pd.concat([df_test[df_test['from'].isin(weak_nodes)],df_test[df_test['to'].isin(weak_nodes)]]).drop_duplicates()"
   ],
   "metadata": {
    "collapsed": false,
    "pycharm": {
     "name": "#%%\n"
    }
   }
  },
  {
   "cell_type": "code",
   "execution_count": 34,
   "outputs": [],
   "source": [
    "df_to_add_test = pd.concat([df_1_test, df_2_test]).drop_duplicates()\n",
    "df_to_add_val = pd.concat([df_1_val, df_2_val]).drop_duplicates()\n",
    "\n",
    "# drop intersections between test and val\n",
    "df_to_add_val = df_to_add_val.drop(set(df_to_add_val.index).intersection(set(df_to_add_test.index)))\n",
    "\n",
    "df_val_new = pd.concat([df_val_weak, df_to_add_val])\n",
    "df_test_new = pd.concat([df_test_weak, df_to_add_test])\n",
    "df_train_new = pd.concat([df_trivec, df_val_new, df_test_new]).drop_duplicates(keep=False)"
   ],
   "metadata": {
    "collapsed": false,
    "pycharm": {
     "name": "#%%\n"
    }
   }
  },
  {
   "cell_type": "code",
   "execution_count": 35,
   "outputs": [
    {
     "name": "stdout",
     "output_type": "stream",
     "text": [
      "True\n",
      "True\n"
     ]
    }
   ],
   "source": [
    "## check if splits is okay\n",
    "print((df_train_new.shape[0] + df_val_new.shape[0] + df_test_new.shape[0]) == df_trivec.shape[0])\n",
    "print(pd.concat([df_train_new, df_val_new, df_test_new]).drop_duplicates().shape[0] == df_trivec.shape[0])"
   ],
   "metadata": {
    "collapsed": false,
    "pycharm": {
     "name": "#%%\n"
    }
   }
  },
  {
   "cell_type": "code",
   "execution_count": 36,
   "outputs": [],
   "source": [
    "df_train_new.to_csv(new_data_path + \"/polyphar_train_new.csv\", index=False)\n",
    "df_val_new.to_csv(new_data_path + \"/polyphar_val_new.csv\", index=False)\n",
    "df_test_new.to_csv(new_data_path + \"/polyphar_test_new.csv\", index=False)"
   ],
   "metadata": {
    "collapsed": false,
    "pycharm": {
     "name": "#%%\n"
    }
   }
  },
  {
   "cell_type": "markdown",
   "source": [
    "# Split 2"
   ],
   "metadata": {
    "collapsed": false,
    "pycharm": {
     "name": "#%% md\n"
    }
   }
  },
  {
   "cell_type": "code",
   "execution_count": 37,
   "outputs": [],
   "source": [
    "weak_nodes = list(degrees[degrees <=795].index)\n",
    "len(degrees[degrees <=795])\n",
    "\n",
    "df_1 = df_tr[df_tr['from'].isin(weak_nodes)].sort_values(\"from\")\n",
    "\n",
    "triples_to_add_test = []\n",
    "triples_to_add_val = []\n",
    "for drug in list(set(df_1['from'])):\n",
    "    tmp = df_1[df_1['from'] == drug]\n",
    "    triples_to_add_test.append(tmp.iloc[:len(tmp)//2])\n",
    "    triples_to_add_val.append(tmp.iloc[len(tmp)//2:len(tmp)])\n",
    "df_1_test = pd.concat(triples_to_add_test)\n",
    "df_1_val = pd.concat(triples_to_add_val)\n",
    "\n",
    "df_2 = df_tr[df_tr['to'].isin(weak_nodes)].sort_values(\"to\")\n",
    "\n",
    "triples_to_add_test = []\n",
    "triples_to_add_val = []\n",
    "for drug in list(set(df_2['to'])):\n",
    "    tmp = df_2[df_2['to'] == drug]\n",
    "    triples_to_add_test.append(tmp.iloc[:len(tmp)//2])\n",
    "    triples_to_add_val.append(tmp.iloc[len(tmp)//2:len(tmp)])\n",
    "df_2_test = pd.concat(triples_to_add_test)\n",
    "df_2_val = pd.concat(triples_to_add_val)"
   ],
   "metadata": {
    "collapsed": false,
    "pycharm": {
     "name": "#%%\n"
    }
   }
  },
  {
   "cell_type": "code",
   "execution_count": 38,
   "outputs": [],
   "source": [
    "df_val_weak = pd.concat([df_val[df_val['from'].isin(weak_nodes)],df_val[df_val['to'].isin(weak_nodes)]]).drop_duplicates()\n",
    "df_test_weak = pd.concat([df_test[df_test['from'].isin(weak_nodes)],df_test[df_test['to'].isin(weak_nodes)]]).drop_duplicates()"
   ],
   "metadata": {
    "collapsed": false,
    "pycharm": {
     "name": "#%%\n"
    }
   }
  },
  {
   "cell_type": "code",
   "execution_count": 39,
   "outputs": [],
   "source": [
    "df_to_add_test = pd.concat([df_1_test, df_2_test]).drop_duplicates()\n",
    "df_to_add_val = pd.concat([df_1_val, df_2_val]).drop_duplicates()\n",
    "\n",
    "# drop intersections between test and val\n",
    "df_to_add_val = df_to_add_val.drop(set(df_to_add_val.index).intersection(set(df_to_add_test.index)))\n",
    "\n",
    "df_val_new_2 = pd.concat([df_val_weak, df_to_add_val])\n",
    "df_test_new_2 = pd.concat([df_test_weak, df_to_add_test])\n",
    "df_train_new_2 = pd.concat([df_trivec, df_val_new, df_test_new]).drop_duplicates(keep=False)"
   ],
   "metadata": {
    "collapsed": false,
    "pycharm": {
     "name": "#%%\n"
    }
   }
  },
  {
   "cell_type": "code",
   "execution_count": 40,
   "outputs": [
    {
     "name": "stdout",
     "output_type": "stream",
     "text": [
      "False\n",
      "False\n"
     ]
    }
   ],
   "source": [
    "## check if splits is okay\n",
    "print((df_train_new_2.shape[0] + df_val_new_2.shape[0] + df_test_new_2.shape[0]) == df_trivec.shape[0])\n",
    "print(pd.concat([df_train_new_2, df_val_new_2, df_test_new_2]).drop_duplicates().shape[0] == df_trivec.shape[0])"
   ],
   "metadata": {
    "collapsed": false,
    "pycharm": {
     "name": "#%%\n"
    }
   }
  },
  {
   "cell_type": "code",
   "execution_count": 41,
   "outputs": [],
   "source": [
    "df_train_new_2.to_csv(new_data_path + \"/polyphar_train_new_2.csv\", index=False)\n",
    "df_val_new_2.to_csv(new_data_path + \"/polyphar_val_new_2.csv\", index=False)\n",
    "df_test_new_2.to_csv(new_data_path + \"/polyphar_test_new_2.csv\", index=False)"
   ],
   "metadata": {
    "collapsed": false,
    "pycharm": {
     "name": "#%%\n"
    }
   }
  }
 ],
 "metadata": {
  "kernelspec": {
   "display_name": "Python 3",
   "language": "python",
   "name": "python3"
  },
  "language_info": {
   "codemirror_mode": {
    "name": "ipython",
    "version": 2
   },
   "file_extension": ".py",
   "mimetype": "text/x-python",
   "name": "python",
   "nbconvert_exporter": "python",
   "pygments_lexer": "ipython2",
   "version": "2.7.6"
  }
 },
 "nbformat": 4,
 "nbformat_minor": 0
}